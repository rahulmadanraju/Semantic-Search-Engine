{
 "cells": [
  {
   "cell_type": "code",
   "execution_count": null,
   "metadata": {},
   "outputs": [],
   "source": [
    "#https://serpstack.com/ google suche aus Keywordliste in GoogleSheets\n",
    "import pandas as pd\n",
    "import requests\n",
    "from datetime import datetime\n",
    "import urllib.parse\n",
    "\n",
    "#use creds to create a client to interact with the Google Drive API\n",
    "keywordlist = pd.read_csv(r'keywords_serpstack.csv',sep=';')\n",
    "\n",
    "print(len(keywordlist), \"Keywordkombinationen werden per API gesucht.\")\n",
    "\n",
    "df = []\n",
    "\n",
    "for i in range(0,len(keywordlist)):\n",
    "    print(str(keywordlist[i]))\n",
    "    #Parameter\n",
    "    url = 'http://api.serpstack.com/search?'\n",
    "    access_key = 'fecfdc248f2fcf66ca6541ea01eb7801'\n",
    "    query = urllib.parse.quote(str(keywordlist[i])) #die Anfrage muss in eine URL umgewandelt werden\n",
    "    num = 100    \n",
    "    # gl: \"de\" oder \"us\" // hl: \"en\" oder \"de\"\n",
    "    gl= \"us\"\n",
    "    hl= \"en\"\n",
    "    #page = 1 #muss wenn noch integriert werden\n",
    "    \n",
    "    api_result = requests.get(url+'access_key='+access_key+'&query='+query+'&num='+str(num)+'&gl='+gl+'&hl='+hl)\n",
    "    api_response = api_result.json()\n",
    "\n",
    "    if \"organic_results\" in api_response:\n",
    "        #es kommt vor, dass zwar OrganicResults vorhanden ist aber als leere Tabelle\n",
    "        if len(api_response['organic_results']) > 0:\n",
    "\n",
    "            #Daten werden aus Serpstack übertragen\n",
    "            data = pd.DataFrame(api_response['organic_results'])\n",
    "            data = pd.concat([data, pd.DataFrame([keywordlist[i]] * len(data), columns=['keywords'])], axis=1, ignore_index=False)\n",
    "\n",
    "            if i==0:\n",
    "                df = data[[\"title\",\"domain\",\"url\",\"snippet\",\"keywords\"]]\n",
    "            else: \n",
    "                df = pd.concat([df, data[[\"title\",\"domain\",\"url\",\"snippet\",\"keywords\"]]], ignore_index=True)\n",
    "                df.drop_duplicates(subset =\"url\", keep = \"first\", inplace = True)\n",
    "                df = df.reset_index(drop=True)\n",
    "            print(\"Nach Durchgang\", i, \"Ergebnisse\", len(df))\n",
    "        else:\n",
    "            print(\"Nach Durchgang\", i, \"Ergebnisse\", len(df), \"unverändert\")\n",
    "    else:\n",
    "        print(\"Nach Durchgang\", i, \"Ergebnisse\", len(df), \"unverändert\")\n",
    "\n",
    "\n",
    "#Datum zu den Serpstack Suchresultaten hinzufügen\n",
    "df = pd.concat([df, pd.DataFrame([datetime.now().strftime(\"%d/%m/%Y %H:%M\")] * len(df), columns=['timestamp'])], axis=1, ignore_index=False)\n",
    "print(len(df), \"Suchergebnisse durch Serpstack insgesamt\")\n"
   ]
  }
 ],
 "metadata": {
  "kernelspec": {
   "display_name": "Python 3",
   "language": "python",
   "name": "python3"
  },
  "language_info": {
   "codemirror_mode": {
    "name": "ipython",
    "version": 3
   },
   "file_extension": ".py",
   "mimetype": "text/x-python",
   "name": "python",
   "nbconvert_exporter": "python",
   "pygments_lexer": "ipython3",
   "version": "3.7.3"
  }
 },
 "nbformat": 4,
 "nbformat_minor": 4
}
